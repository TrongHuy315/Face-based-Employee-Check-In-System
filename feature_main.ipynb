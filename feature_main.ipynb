{
 "cells": [
  {
   "cell_type": "code",
   "execution_count": 9,
   "id": "d6656b4b",
   "metadata": {},
   "outputs": [],
   "source": [
    "from PIL import Image\n",
    "from facenet_pytorch import InceptionResnetV1\n",
    "from torchvision import transforms\n",
    "\n",
    "import os\n",
    "import numpy as np\n",
    "import faiss\n",
    "import torch"
   ]
  },
  {
   "cell_type": "code",
   "execution_count": 10,
   "id": "ee176d5f",
   "metadata": {},
   "outputs": [
    {
     "data": {
      "text/plain": [
       "['Avatar_Anil_Ramsook.jpg',\n",
       " 'Avatar_Andrew_Cuomo.jpg',\n",
       " 'Avatar_Camille_Lewis.jpg',\n",
       " 'Avatar_Thang_Duong.jpg',\n",
       " 'Avatar_Amy_Pascal.jpg',\n",
       " 'Avatar_Andrew_Bernard.jpg',\n",
       " 'Avatar_Tien_Huy.jpg',\n",
       " 'Avatar_my-picture.jpg',\n",
       " 'Avatar_Phuc_Thinh.JPG',\n",
       " 'Avatar_Carla_Gay_Balingit.jpg',\n",
       " 'Avatar_Dang_Nha.jpg',\n",
       " 'Avatar_Amy_Redford.jpg',\n",
       " 'Avatar_Hoang_Nguyen.jpg',\n",
       " 'Avatar_Minh_Chau.jpg',\n",
       " 'Avatar_Anh_Khoi.JPG',\n",
       " 'Avatar_Aaron_Guiel.jpg',\n",
       " 'Avatar_Thuan_Duong.jpg',\n",
       " 'Avatar_Quoc_Thai.JPG',\n",
       " 'Avatar_Aaron_Eckhart.jpg']"
      ]
     },
     "execution_count": 10,
     "metadata": {},
     "output_type": "execute_result"
    }
   ],
   "source": [
    "dataset_path = \"Dataset\"\n",
    "os.listdir(dataset_path)   # Liet ke cac file va thu muc"
   ]
  },
  {
   "cell_type": "code",
   "execution_count": 11,
   "id": "d45a9f74",
   "metadata": {},
   "outputs": [],
   "source": [
    "image_paths = []\n",
    "labels = []\n",
    "\n",
    "for filename in os.listdir(dataset_path):\n",
    "    if filename.endswith(('jpg', 'JPG', 'jpeg', 'png')):\n",
    "        image_paths.append(os.path.join(dataset_path, filename))\n",
    "        fileNameWithoutTail = filename.split('.')[0]\n",
    "        labels.append(fileNameWithoutTail[7:])"
   ]
  },
  {
   "cell_type": "code",
   "execution_count": 12,
   "id": "5b2072af",
   "metadata": {},
   "outputs": [],
   "source": [
    "model = InceptionResnetV1(pretrained='vggface2').eval()   # Che do danh gia (khong phai che do training)\n",
    "\n",
    "transform = transforms.Compose([\n",
    "    transforms.Resize((300, 300)),   # Resize anh ve kich thuoc 300 x 300 pixel\n",
    "    transforms.ToTensor(),   # Dua ve dang tensor (C, H, W) va chuan hoa ve doan [0, 1]\n",
    "    transforms.Normalize(mean=[0.5, 0.5, 0.5], std=[0.5, 0.5, 0.5])   # Dua ve phan phoi chuan trong doan [0, 1]\n",
    "])"
   ]
  },
  {
   "cell_type": "code",
   "execution_count": 13,
   "id": "a70db7f9",
   "metadata": {},
   "outputs": [],
   "source": [
    "def extract_features(image_path, model):\n",
    "    img = Image.open(image_path).convert('RGB')   # Ham convert() chuyen doi tat ca loai anh ve RGB\n",
    "    image = transform(img).unsqueeze(0)\n",
    "\n",
    "    with torch.no_grad():\n",
    "        features = model(image)\n",
    "\n",
    "    return features.squeeze().numpy()"
   ]
  },
  {
   "cell_type": "code",
   "execution_count": 14,
   "id": "e5728f56",
   "metadata": {},
   "outputs": [],
   "source": [
    "index = faiss.IndexFlatL2(512)\n",
    "label_map = []\n",
    "\n",
    "for idx in range(len(image_paths)):\n",
    "    features = extract_features(image_paths[idx], model)\n",
    "    index.add(np.array([features]))\n",
    "    label_map.append(labels[idx])\n",
    "\n",
    "faiss.write_index(index, \"improved_employee_images.index\")\n",
    "np.save(\"label_map.npy\", label_map)"
   ]
  },
  {
   "cell_type": "code",
   "execution_count": 15,
   "id": "6449c572",
   "metadata": {},
   "outputs": [],
   "source": [
    "def search_query_image(query_image_path, k = 5):\n",
    "    index = faiss.read_index(\"improved_employee_images.index\")\n",
    "    label_map = np.load(\"label_map.npy\")\n",
    "\n",
    "    query_vector = extract_features(query_image_path, model)\n",
    "\n",
    "    distances, indices = index.search(np.array([query_vector]), k)\n",
    "\n",
    "    results = []\n",
    "    for idx in range(len(indices[0])):\n",
    "        label = label_map[indices[0][idx]]\n",
    "        distance = distances[0][idx]\n",
    "\n",
    "        results.append((label, distance))\n",
    "\n",
    "    return results"
   ]
  },
  {
   "cell_type": "code",
   "execution_count": 16,
   "id": "7283ce54",
   "metadata": {},
   "outputs": [
    {
     "name": "stdout",
     "output_type": "stream",
     "text": [
      "[('my-picture', 0.16317278), ('Dang_Nha', 0.46942574)]\n"
     ]
    }
   ],
   "source": [
    "query_image_path = \"test-picture.jpg\"\n",
    "\n",
    "print(search_query_image(query_image_path, 2))"
   ]
  }
 ],
 "metadata": {
  "kernelspec": {
   "display_name": "venv",
   "language": "python",
   "name": "python3"
  },
  "language_info": {
   "codemirror_mode": {
    "name": "ipython",
    "version": 3
   },
   "file_extension": ".py",
   "mimetype": "text/x-python",
   "name": "python",
   "nbconvert_exporter": "python",
   "pygments_lexer": "ipython3",
   "version": "3.12.3"
  }
 },
 "nbformat": 4,
 "nbformat_minor": 5
}
