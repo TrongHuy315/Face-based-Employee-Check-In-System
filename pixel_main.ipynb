{
 "cells": [
  {
   "cell_type": "code",
   "execution_count": 2,
   "id": "6c076f8f",
   "metadata": {},
   "outputs": [
    {
     "name": "stdout",
     "output_type": "stream",
     "text": [
      "Downloading...\n",
      "From: https://drive.google.com/uc?id=1w7Riq_itzcijqkvSW0yyivvlw0IgRGa_\n",
      "To: /home/chienbinhronggreen/Study/Project/Face-based-Employee-Check-In-System/Dataset.zip\n",
      "100%|██████████████████████████████████████| 1.34M/1.34M [00:00<00:00, 3.07MB/s]\n",
      "Archive:  Dataset.zip\n",
      "replace Dataset/Avatar_Aaron_Eckhart.jpg? [y]es, [n]o, [A]ll, [N]one, [r]ename: ^C\n"
     ]
    }
   ],
   "source": [
    "!gdown 1w7Riq_itzcijqkvSW0yyivvlw0IgRGa_\n",
    "!unzip Dataset.zip"
   ]
  },
  {
   "cell_type": "code",
   "execution_count": 1,
   "id": "1d88b358",
   "metadata": {},
   "outputs": [],
   "source": [
    "import os"
   ]
  },
  {
   "cell_type": "code",
   "execution_count": 2,
   "id": "ad2c4b27",
   "metadata": {},
   "outputs": [
    {
     "data": {
      "text/plain": [
       "['Avatar_Anil_Ramsook.jpg',\n",
       " 'Avatar_Andrew_Cuomo.jpg',\n",
       " 'Avatar_Camille_Lewis.jpg',\n",
       " 'Avatar_Thang_Duong.jpg',\n",
       " 'Avatar_Amy_Pascal.jpg',\n",
       " 'Avatar_Andrew_Bernard.jpg',\n",
       " 'Avatar_Tien_Huy.jpg',\n",
       " 'Avatar_Phuc_Thinh.JPG',\n",
       " 'Avatar_Carla_Gay_Balingit.jpg',\n",
       " 'Avatar_Dang_Nha.jpg',\n",
       " 'Avatar_Amy_Redford.jpg',\n",
       " 'Avatar_Hoang_Nguyen.jpg',\n",
       " 'Avatar_Minh_Chau.jpg',\n",
       " 'Avatar_Anh_Khoi.JPG',\n",
       " 'Avatar_Aaron_Guiel.jpg',\n",
       " 'Avatar_Thuan_Duong.jpg',\n",
       " 'Avatar_Quoc_Thai.JPG',\n",
       " 'Avatar_Aaron_Eckhart.jpg']"
      ]
     },
     "execution_count": 2,
     "metadata": {},
     "output_type": "execute_result"
    }
   ],
   "source": [
    "dataset_path = \"Dataset\"\n",
    "os.listdir(dataset_path)   # Liet ke cac file va thu muc"
   ]
  },
  {
   "cell_type": "code",
   "execution_count": 3,
   "id": "ac131b28",
   "metadata": {},
   "outputs": [],
   "source": [
    "image_paths = []\n",
    "labels = []\n",
    "\n",
    "for filename in os.listdir(dataset_path):\n",
    "    if filename.endswith(('jpg', 'JPG', 'jpeg', 'png')):\n",
    "        image_paths.append(os.path.join(dataset_path, filename))\n",
    "        fileNameWithoutTail = filename.split('.')[0]\n",
    "        labels.append(fileNameWithoutTail[7:])"
   ]
  },
  {
   "cell_type": "code",
   "execution_count": 4,
   "id": "cf608a3e",
   "metadata": {},
   "outputs": [],
   "source": [
    "IMAGE_SIZE = 300\n",
    "\n",
    "from PIL import Image\n",
    "import numpy as np\n",
    "\n",
    "def convert_image_to_vector(image_path):\n",
    "    image = Image.open(image_path).resize((IMAGE_SIZE, IMAGE_SIZE))\n",
    "    img = np.array(image)\n",
    "\n",
    "    # Check anh den trang\n",
    "    if img.shape == 2:\n",
    "        img = np.stack((img, ) * 3, axis=-1)\n",
    "    \n",
    "    # Chuan hoa ve doan [0, 1]\n",
    "    vector = img.astype('float32') / 255.0\n",
    "\n",
    "    return vector.flatten()"
   ]
  },
  {
   "cell_type": "code",
   "execution_count": 5,
   "id": "1e119f51",
   "metadata": {},
   "outputs": [],
   "source": [
    "import faiss\n",
    "\n",
    "VECTOR_DIM = IMAGE_SIZE * IMAGE_SIZE * 3\n",
    "\n",
    "index = faiss.IndexFlatL2(VECTOR_DIM)\n",
    "label_map = []\n",
    "\n",
    "for idx in range(len(image_paths)):\n",
    "    vector = convert_image_to_vector(image_paths[idx])\n",
    "    index.add(np.array([vector]))\n",
    "    label_map.append(labels[idx])\n",
    "\n",
    "faiss.write_index(index, \"employee_images.index\")\n",
    "np.save(\"label_map.npy\", label_map)"
   ]
  },
  {
   "cell_type": "code",
   "execution_count": 8,
   "id": "4a1df0e6",
   "metadata": {},
   "outputs": [],
   "source": [
    "def search_similar_images(query_image_path, k = 5):\n",
    "    index = faiss.read_index(\"employee_images.index\")\n",
    "    label_map = np.load(\"label_map.npy\")\n",
    "\n",
    "    query_vector = convert_image_to_vector(query_image_path)\n",
    "    distances, indices = index.search(np.array([query_vector]), k)\n",
    "\n",
    "    results = []\n",
    "    for i in range(len(indices[0])):\n",
    "        employee_name = label_map[indices[0][i]]\n",
    "        distance = distances[0][i]\n",
    "        \n",
    "        results.append((employee_name, distance))\n",
    "\n",
    "    return results"
   ]
  },
  {
   "cell_type": "code",
   "execution_count": 9,
   "id": "79ac1191",
   "metadata": {},
   "outputs": [
    {
     "name": "stdout",
     "output_type": "stream",
     "text": [
      "[('Phuc_Thinh', 0.0), ('Dang_Nha', 22539.059), ('Quoc_Thai', 24997.75), ('Amy_Pascal', 25327.293), ('Anh_Khoi', 27042.953)]\n"
     ]
    }
   ],
   "source": [
    "query_image = \"Dataset/Avatar_Phuc_Thinh.JPG\"\n",
    "print(search_similar_images(query_image))"
   ]
  }
 ],
 "metadata": {
  "kernelspec": {
   "display_name": "venv",
   "language": "python",
   "name": "python3"
  },
  "language_info": {
   "codemirror_mode": {
    "name": "ipython",
    "version": 3
   },
   "file_extension": ".py",
   "mimetype": "text/x-python",
   "name": "python",
   "nbconvert_exporter": "python",
   "pygments_lexer": "ipython3",
   "version": "3.12.3"
  }
 },
 "nbformat": 4,
 "nbformat_minor": 5
}
